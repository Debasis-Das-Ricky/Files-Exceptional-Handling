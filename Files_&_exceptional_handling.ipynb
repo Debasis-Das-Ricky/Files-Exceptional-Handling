{
  "nbformat": 4,
  "nbformat_minor": 0,
  "metadata": {
    "colab": {
      "provenance": []
    },
    "kernelspec": {
      "name": "python3",
      "display_name": "Python 3"
    },
    "language_info": {
      "name": "python"
    }
  },
  "cells": [
    {
      "cell_type": "markdown",
      "source": [
        "# Files & Exceptional Handling(Theoretical)"
      ],
      "metadata": {
        "id": "9xpgALAm7Ocw"
      }
    },
    {
      "cell_type": "markdown",
      "source": [
        "\n",
        "\n",
        "1. What is the difference between interpreted and compiled languages ?\n",
        " -  In compiled languages, the entire source code is translated into machine code by a compiler before execution, resulting in faster performance but platform dependency. In interpreted languages, an interpreter reads and executes code line by line at runtime, offering greater portability and easier debugging but slower execution.\n",
        "\n",
        "2. What is exception handling in Python ?\n",
        " - Exception handling in Python lets you catch and manage runtime errors using try and except blocks (with optional else and finally clauses), preventing crashes and enabling graceful error recovery.\n",
        "\n",
        "3. What is the purpose of the finally block in exception handling ?\n",
        " - The finally block contains code that always runs after the try/except sequence—whether an exception occurred or not—making it ideal for cleanup tasks (e.g., closing files or releasing resources).\n",
        "\n",
        "4. What is logging in Python ?\n",
        " - Logging in Python is a built-in module that provides a flexible framework for tracking events during program execution. It lets developers record messages at different severity levels (DEBUG, INFO, WARNING, ERROR, CRITICAL) and route them to various destinations (console, files, email handlers, etc.), helping with debugging and monitoring.\n",
        "\n",
        "5. What is the significance of the __del__ method in Python ?\n",
        " - The __del__ method in Python is a special destructor that’s called when an object is about to be garbage-collected, allowing you to perform cleanup actions (e.g., closing files or releasing resources).\n",
        "\n",
        "6. What is the difference between import and from ... import in Python ?\n",
        " - The import in python is load the entire module and access its contents with the module's namespace (ex. module.func()). From ... import in python is you pull specific attributes or functions directly into your namespace, so you can call name() without the module prefix.\n",
        "\n",
        "7. How can you handle multiple exceptions in Python ?\n",
        " - In Python, you can manage different error types within a single try block by using multiple except clauses or by grouping exception types. This approach lets you provide tailored responses for each error scenario while keeping the error-handling logic organized.\n",
        "\n",
        "  a) Define separate except blocks for each exception class This lets you handle each error uniquely and maintain clear control flow.\n",
        "\n",
        "  b) Group related exceptions in a tuple in a single except clause Use (ErrorA, ErrorB) to apply the same handling logic to several error types.\n",
        "\n",
        "  c) Order matters: place specific exceptions before more general ones If you catch a base class like Exception first, more specific handlers will never execute.\n",
        "\n",
        "  d) Optionally include a generic except Exception: block Use this as a catch-all guard to log or rethrow unexpected errors after all specific handlers.\n",
        "\n",
        "8. What is the purpose of the with statement when handling files in Python ?\n",
        " - The with statement automatically closes a file when its block ends, ensuring proper cleanup even if an exception occurs.\n",
        "\n",
        "9. What is the difference between multithreading and multiprocessing ?\n",
        " - Multithreading runs multiple threads within the same process, sharing memory and having low context-switch overhead—best for I/O-bound tasks but limited by Python's GIL for CPU work. Multiprocessing spawns separate processes, each with its own memory space, incurs higher overhead but achieves true parallelism on multi-core CPUs—ideal for CPU-bound workloads.\n",
        "\n",
        "10. What are the advantages of using logging in a program ?\n",
        " - Provides timestamped, level-based messages (DEBUG, INFO, WARNING, ERROR, CRITICAL) for clear diagnostics. Supports multiple output handlers (files, console, email) for flexible monitoring. Creates persistent logs for post-mortem analysis and auditing. Allows dynamic filtering and formatting without changing application code.\n",
        "\n",
        "11. What is memory management in Python ?\n",
        " - Memory management in Python is the automatic process of allocating and freeing memory for objects on a private heap, handled by the Python memory manager using reference counting and cyclic garbage collection.\n",
        "\n",
        "12. What are the basic steps involved in exception handling in Python ?\n",
        "\n",
        "   a) Enclose the code that might raise an exception in a try block.\n",
        "\n",
        "   b) Add one or more except blocks to catch and handle specific exception types.\n",
        "\n",
        "   c) Optionally include an else block to execute code if no exception was raised.\n",
        "\n",
        "   d) Optionally include a finally block to run cleanup actions regardless of whether an exception occurred.\n",
        "\n",
        "13. Why is memory management important in Python ?\n",
        " - Ensures efficient allocation and deallocation of memory, preventing leaks and maintaining optimal performance. Leverages automatic garbage collection to reduce manual overhead, minimize bugs, and enhance application stability.\n",
        "\n",
        "14. What is the role of try and except in exception handling ?\n",
        " - The try block encloses code that might raise an exception. The except block catches and handles specified exceptions, preventing program crashes.\n",
        "\n",
        "15. How does Python's garbage collection system work ?\n",
        " - Reference counting Every object keeps a count of how many references point to it. When this count drops to zero, the object’s memory is immediately reclaimed. Generational cyclic collector To catch reference cycles (objects that reference each other), Python uses a generational GC with three “generations.” Newly created objects start in generation 0; if they survive collections, they move to higher generations. Collections run periodically based on allocation thresholds, scanning container objects for unreachable cycles and freeing them.\n",
        "\n",
        "16. What is the purpose of the else block in exception handling ?\n",
        " - The else block runs only if the try block completes without raising an exception. It's used for code that should execute when no errors occur, keeping normal and error-handling paths separate.\n",
        "\n",
        "17. What are the common logging levels in Python ?\n",
        " - DEBUG, INFO, WARNING, ERROR, CRITICAL.\n",
        "\n",
        "18. What is the difference between os.fork() and multiprocessing in Python ?\n",
        " - os.fork(): a low-level, Unix-only system call that clones the current process into parent and child, sharing the same memory image and file descriptors but requiring manual setup for interprocess coordination.multiprocessing: a high-level, cross-platform Python module that spawns separate processes (using fork, spawn or forkserver under the hood), provides Pools, Queues, Pipes and Managers for safe IPC, and handles process lifecycle automatically.\n",
        "\n",
        "19. What is the importance of closing a file in Python ?\n",
        " - Ensures buffered data is flushed and written to disk. Releases system resources (file descriptors) to prevent leaks and potential errors.\n",
        "\n",
        "20. What is the difference between file.read() and file.readline() in Python ?\n",
        " - file.read() reads the entire file content (or up to a specified number of bytes) into a single string. file.readline() reads and returns the next line from the file each time it's called.\n",
        "\n",
        "21. What is the logging module in Python used for ?\n",
        " - The logging module provides a flexible framework for emitting log messages at different severity levels and routing them to various outputs (console, files, etc.), aiding in debugging, monitoring, and auditing.\n",
        "\n",
        "22. What is the os module in Python used for in file handling ?\n",
        " - The os module in Python offers functions to interact with the operating system for file and directory handling:\n",
        "  a) Create, remove, and rename files or directories (e.g., os.remove, os.rename, os.makedirs).\n",
        "  b) Retrieve file metadata and status (e.g., os.stat, os.path.exists, os.path.getsize).\n",
        "  c) Manipulate paths and navigate the filesystem (e.g., os.path.join, os.getcwd, os.chdir).\n",
        "  d) Perform low-level I/O with file descriptors (e.g., os.open, os.read, os.write, os.close).\n",
        "\n",
        "23. What are the challenges associated with memory management in Python ?\n",
        "  - Garbage collection overhead can introduce performance bottlenecks and pause times. Reference counting fails on cyclic references, requiring periodic cycle detection. Memory fragmentation in the private heap can lead to inefficient usage. Lingering object references or improper caching may cause memory leaks.\n",
        "\n",
        "24. How do you raise an exception manually in Python ?\n",
        " - Use the raise statement with an exception class or instance, for example: raise ValueError(\"Invalid value\")\n",
        "\n",
        "25. Why is it important to use multithreading in certain applications?\n",
        " - Multithreading lets a program perform multiple tasks seemingly at the same time by running several threads within a single process. This is crucial for applications where waiting on one operation would otherwise block the entire program.\n",
        "  a) Improves responsiveness in user interfaces by handling input, background tasks, and rendering concurrently\n",
        "  b) Accelerates I/O-bound workloads (file reads, network calls) by overlapping wait times with useful processing\n",
        "  c) Enables efficient use of multicore systems for tasks that can be split into independent threads\n",
        "  d) Keeps long-running operations (downloads, computations) from freezing the main thread\n",
        "  e) Simplifies design of servers and services that must handle many simultaneous connections without spawning full processes\n",
        " Multithreading is most valuable when tasks are I/O-heavy or when maintaining a responsive application is critical, even if the Global Interpreter Lock (GIL) limits true parallelism for CPU-bound work."
      ],
      "metadata": {
        "id": "9-_a3eZb7Vgw"
      }
    },
    {
      "cell_type": "markdown",
      "source": [
        "# Files & Exceptional Handling(Practical)"
      ],
      "metadata": {
        "id": "mdbzixbe-4VI"
      }
    },
    {
      "cell_type": "code",
      "source": [
        "# How can you open a file for writing in Python and write a string to it\n",
        "f = open('file.txt', 'w')\n",
        "f.write('Hello, world!')\n",
        "f.close()"
      ],
      "metadata": {
        "id": "MDk8VHFD_Axd"
      },
      "execution_count": null,
      "outputs": []
    },
    {
      "cell_type": "code",
      "source": [
        "# Write a Python program to read the contents of a file and print each line\n",
        "f = open('file.txt', 'r')\n",
        "for line in f:\n",
        "    print(line)\n",
        "f.close()"
      ],
      "metadata": {
        "id": "5fq0y8mj_GZP"
      },
      "execution_count": null,
      "outputs": []
    },
    {
      "cell_type": "code",
      "source": [
        "# How would you handle a case where the file doesn't exist while trying to open it for reading\n",
        "f = open('file.txt', 'r')"
      ],
      "metadata": {
        "id": "-X9Msn9v_IR3"
      },
      "execution_count": null,
      "outputs": []
    },
    {
      "cell_type": "code",
      "source": [
        "# Write a Python script that reads from one file and writes its content to another file\n",
        "f1 = open('file1.txt', 'r')\n",
        "f2 = open('file2.txt', 'w')\n",
        "for line in f1:\n",
        "    f2.write(line)\n",
        "f1.close()\n",
        "f2.close()"
      ],
      "metadata": {
        "id": "teraLcp__IDb"
      },
      "execution_count": null,
      "outputs": []
    },
    {
      "cell_type": "code",
      "source": [
        "# How would you catch and handle division by zero error in Python\n",
        "try:\n",
        "    result = 10 / 0\n",
        "except ZeroDivisionError:\n",
        "    print(\"Error: Division by zero\")"
      ],
      "metadata": {
        "colab": {
          "base_uri": "https://localhost:8080/"
        },
        "id": "W2zPXO5G_H5C",
        "outputId": "46726ddc-79b8-4611-fed2-82f067988655"
      },
      "execution_count": null,
      "outputs": [
        {
          "output_type": "stream",
          "name": "stdout",
          "text": [
            "Error: Division by zero\n"
          ]
        }
      ]
    },
    {
      "cell_type": "code",
      "source": [
        "# Write a Python program that logs an error message to a log file when a division by zero exception occurs\n",
        "import logging\n",
        "logging.basicConfig(filename='error.log', level=logging.ERROR)\n",
        "try:\n",
        "    result = 10 / 0\n",
        "except ZeroDivisionError:\n",
        "    logging.error(\"Division by zero error occurred\")"
      ],
      "metadata": {
        "colab": {
          "base_uri": "https://localhost:8080/"
        },
        "id": "QwztYt5d_Hyr",
        "outputId": "e9be13fd-9cd6-4b1b-b26e-7e467008a614"
      },
      "execution_count": null,
      "outputs": [
        {
          "output_type": "stream",
          "name": "stderr",
          "text": [
            "ERROR:root:Division by zero error occurred\n"
          ]
        }
      ]
    },
    {
      "cell_type": "code",
      "source": [
        "# How do you log information at different levels (INFO, ERROR, WARNING) in Python using the logging module\n",
        "import logging\n",
        "logging.basicConfig(filename='log.txt', level=logging.INFO)\n",
        "logging.info(\"This is an info message\")\n",
        "logging.basicConfig(filename='log.txt', level=logging.ERROR)\n",
        "logging.error(\"This is an error message\")"
      ],
      "metadata": {
        "colab": {
          "base_uri": "https://localhost:8080/"
        },
        "id": "dtW7EbcF_GRh",
        "outputId": "30dab619-e1e8-4e87-dd89-251be416fbfd"
      },
      "execution_count": null,
      "outputs": [
        {
          "output_type": "stream",
          "name": "stderr",
          "text": [
            "ERROR:root:This is an error message\n"
          ]
        }
      ]
    },
    {
      "cell_type": "code",
      "source": [
        "# Write a program to handle a file opening error using exception handling\n",
        "try:\n",
        "    f = open('file.txt', 'r')\n",
        "except FileNotFoundError:\n",
        "    print(\"Error: File not found\")"
      ],
      "metadata": {
        "colab": {
          "base_uri": "https://localhost:8080/"
        },
        "id": "ejk5I589_GI_",
        "outputId": "cf469d8e-3c31-489c-f611-ac3de069b3ac"
      },
      "execution_count": null,
      "outputs": [
        {
          "output_type": "stream",
          "name": "stdout",
          "text": [
            "Error: File not found\n"
          ]
        }
      ]
    },
    {
      "cell_type": "code",
      "source": [
        "# How can you read a file line by line and store its content in a list in Python\n",
        "f = open('file.txt', 'r')\n",
        "lines = f.readlines()\n",
        "f.close()"
      ],
      "metadata": {
        "id": "Fkgv_QmJ_GD0"
      },
      "execution_count": null,
      "outputs": []
    },
    {
      "cell_type": "code",
      "source": [
        "# How can you append data to an existing file in Python\n",
        "f = open('file.txt', 'a')\n",
        "f.write('\\nAppended line')\n",
        "f.close()"
      ],
      "metadata": {
        "id": "OGlq2m80_F_2"
      },
      "execution_count": null,
      "outputs": []
    },
    {
      "cell_type": "code",
      "source": [
        "# Write a Python program that uses a try-except block to handle an error when attempting to access a dictionary key that doesn't exist\n",
        "my_dict = {'a': 1, 'b': 2}\n",
        "try:\n",
        "    value = my_dict['c']\n",
        "except KeyError:\n",
        "    print(\"Error: Key not found in dictionary\")"
      ],
      "metadata": {
        "colab": {
          "base_uri": "https://localhost:8080/"
        },
        "id": "2u02sWt0_F7x",
        "outputId": "10a3a4c5-f100-480e-f0a1-3a0febcf6511"
      },
      "execution_count": null,
      "outputs": [
        {
          "output_type": "stream",
          "name": "stdout",
          "text": [
            "Error: Key not found in dictionary\n"
          ]
        }
      ]
    },
    {
      "cell_type": "code",
      "source": [
        "# Write a program that demonstrates using multiple except blocks to handle different types of exceptions\n",
        "try:\n",
        "    result = 10 / 0\n",
        "except ZeroDivisionError:\n",
        "    print(\"Error: Division by zero\")\n",
        "except ValueError:\n",
        "    print(\"Error: Invalid value\")"
      ],
      "metadata": {
        "colab": {
          "base_uri": "https://localhost:8080/"
        },
        "id": "DknkaH31_F4E",
        "outputId": "6da8c78d-349e-43f3-92e7-a17f452fd48d"
      },
      "execution_count": null,
      "outputs": [
        {
          "output_type": "stream",
          "name": "stdout",
          "text": [
            "Error: Division by zero\n"
          ]
        }
      ]
    },
    {
      "cell_type": "code",
      "source": [
        "# How would you check if a file exists before attempting to read it in Python\n",
        "import os\n",
        "if os.path.exists('file.txt'):\n",
        "    f = open('file.txt', 'r')\n",
        "    content = f.read()\n",
        "    f.close()"
      ],
      "metadata": {
        "id": "kWAPpAnd_CAs"
      },
      "execution_count": null,
      "outputs": []
    },
    {
      "cell_type": "code",
      "source": [
        "# Write a program that uses the logging module to log both informational and error messages\n",
        "import logging\n",
        "logging.basicConfig(filename='log.txt', level=logging.INFO)\n",
        "logging.info(\"This is an info message\")\n",
        "logging.basicConfig(filename='log.txt', level=logging.ERROR)\n",
        "logging.error(\"This is an error message\")"
      ],
      "metadata": {
        "id": "Syd7Sd1N_B9c"
      },
      "execution_count": null,
      "outputs": []
    },
    {
      "cell_type": "code",
      "source": [
        "# Write a Python program that prints the content of a file and handles the case when the file is empty.\n",
        "f = open('file.txt', 'r')\n",
        "if os.stat('file.txt').st_size == 0:\n",
        "    print(\"Error: File is empty\")\n",
        "else:\n",
        "    content = f.read()\n",
        "    print(content)\n",
        "f.close()"
      ],
      "metadata": {
        "id": "vhZu04k0_B6M"
      },
      "execution_count": null,
      "outputs": []
    },
    {
      "cell_type": "code",
      "source": [
        "# Demonstrate how to use memory profiling to check the memory usage of a small program.\n",
        "import sys\n",
        "my_list = [1, 2, 3, 4, 5]\n",
        "memory_usage = sys.getsizeof(my_list)\n",
        "print(f\"Memory usage: {memory_usage} bytes\")"
      ],
      "metadata": {
        "id": "pVgA3rkF_B2u",
        "colab": {
          "base_uri": "https://localhost:8080/"
        },
        "outputId": "ecfd9f15-4786-4c4b-9a21-cf9c087e777a"
      },
      "execution_count": 10,
      "outputs": [
        {
          "output_type": "stream",
          "name": "stdout",
          "text": [
            "Memory usage: 104 bytes\n"
          ]
        }
      ]
    },
    {
      "cell_type": "code",
      "source": [
        "# Write a Python program to create and write a list of numbers to a file, one number per line\n",
        "f = open('numbers.txt', 'w')\n",
        "numbers = [1, 2, 3, 4, 5]\n",
        "for num in numbers:\n",
        "    f.write(str(num) + '\\n')\n",
        "f.close()"
      ],
      "metadata": {
        "id": "tO2DziHm_BzW"
      },
      "execution_count": null,
      "outputs": []
    },
    {
      "cell_type": "code",
      "source": [
        "# How would you implement a basic logging setup that logs to a file with rotation after 1MB.\n",
        "import logging\n",
        "from logging.handlers import RotatingFileHandler\n",
        "logger = logging.getLogger('my_logger')\n",
        "logger.setLevel"
      ],
      "metadata": {
        "id": "WeBgBc4H_Bwd"
      },
      "execution_count": null,
      "outputs": []
    },
    {
      "cell_type": "code",
      "source": [
        "# Write a program that handles both IndexError and KeyError using a try-except block\n",
        "try:\n",
        "    my_list = [1, 2, 3]\n",
        "    value = my_list[3]\n",
        "except IndexError:\n",
        "    print(\"Error: Index out of range\")\n",
        "except KeyError:\n",
        "    print(\"Error: Key not found in dictionary\")"
      ],
      "metadata": {
        "id": "wwkiZxNL_Bto",
        "colab": {
          "base_uri": "https://localhost:8080/"
        },
        "outputId": "2e4141c1-0d8d-4512-98a9-27d8900e7d23"
      },
      "execution_count": 12,
      "outputs": [
        {
          "output_type": "stream",
          "name": "stdout",
          "text": [
            "Error: Index out of range\n"
          ]
        }
      ]
    },
    {
      "cell_type": "code",
      "source": [
        "# How would you open a file and read its contents using a context manager in Python\n",
        "with open('file.txt', 'r') as f:\n",
        "    content = f.read()"
      ],
      "metadata": {
        "id": "IvTm7LhG_Bqm"
      },
      "execution_count": null,
      "outputs": []
    },
    {
      "cell_type": "code",
      "source": [
        "# Write a Python program that reads a file and prints the number of occurrences of a specific word\n",
        "f = open('file.txt', 'r')\n",
        "word_count = {}\n",
        "for line in f:\n",
        "    words = line.split()"
      ],
      "metadata": {
        "id": "t3NC552L_BnM"
      },
      "execution_count": null,
      "outputs": []
    },
    {
      "cell_type": "code",
      "source": [
        "# How can you check if a file is empty before attempting to read its contents\n",
        "import os\n",
        "if os.stat('file.txt').st_size == 0:\n",
        "    print(\"Error: File is empty\")\n",
        "else:\n",
        "    f = open('file.txt', 'r')\n",
        "    content = f.read()\n",
        "    f.close()"
      ],
      "metadata": {
        "id": "S4zzg3Gx_Bjb"
      },
      "execution_count": null,
      "outputs": []
    },
    {
      "cell_type": "code",
      "source": [
        "# Write a Python program that writes to a log file when an error occurs during file handling\n",
        "import logging\n",
        "logging.basicConfig(filename='error.log', level=logging.ERROR)\n",
        "try:\n",
        "    f = open('file.txt', 'r')\n",
        "except FileNotFoundError:\n",
        "    logging.error(\"File not found error occurred\")"
      ],
      "metadata": {
        "id": "p0DnNwQW5d4-"
      },
      "execution_count": null,
      "outputs": []
    }
  ]
}